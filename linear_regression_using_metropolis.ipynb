{
 "cells": [
  {
   "cell_type": "markdown",
   "metadata": {},
   "source": [
    "### Linear Regression using Metropolis Method"
   ]
  },
  {
   "cell_type": "markdown",
   "metadata": {},
   "source": [
    "### Metropolis method for linear regression problem"
   ]
  },
  {
   "cell_type": "markdown",
   "metadata": {},
   "source": [
    "### Make linear data"
   ]
  },
  {
   "cell_type": "code",
   "execution_count": 1,
   "metadata": {
    "collapsed": true
   },
   "outputs": [],
   "source": [
    "from sklearn import datasets, linear_model\n",
    "\n",
    "# Parameters\n",
    "N = 100\n",
    "p = 1\n",
    "intercept = 10\n",
    "sig = 5\n",
    "state = 125\n",
    "X, y = datasets.make_regression(n_samples=N, n_features=p, bias=intercept,\n",
    "                                      n_informative=1, noise=sig, random_state=state)"
   ]
  },
  {
   "cell_type": "code",
   "execution_count": 2,
   "metadata": {},
   "outputs": [
    {
     "data": {
      "image/png": "[encoded data removed]",
      "text/plain": [
       "<Figure size 432x288 with 1 Axes>"
      ]
     },
     "metadata": {},
     "output_type": "display_data"
    }
   ],
   "source": [
    "%matplotlib inline\n",
    "from matplotlib import pyplot as plt\n",
    "plt.scatter(X, y)\n",
    "plt.show()"
   ]
  },
  {
   "cell_type": "markdown",
   "metadata": {},
   "source": [
    "### Prior probability $p(w)$"
   ]
  },
  {
   "cell_type": "code",
   "execution_count": 3,
   "metadata": {
    "collapsed": true
   },
   "outputs": [],
   "source": [
    "def prior_prob(w, beta):\n",
    "    z = 1/(2*beta**2)\n",
    "    return np.log((z/np.pi)) + (-z*(w[0]**2+w[1]**2))"
   ]
  },
  {
   "cell_type": "markdown",
   "metadata": {},
   "source": [
    "### Likelihood function $p(y|w)$\n",
    "errorが大きくなると値が小さくなりすぎて計算不可能となるため、ここでは対数尤度関数とする"
   ]
  },
  {
   "cell_type": "code",
   "execution_count": 4,
   "metadata": {
    "collapsed": true
   },
   "outputs": [],
   "source": [
    "def log_likelihood_function(w, alpha):\n",
    "    z = (1/(2*np.pi*alpha**2))**(len(X)/2)\n",
    "    error_sum = np.sum((y-(w[0]+w[1]*X))**2)\n",
    "    return np.log(z) + (-1/(2*alpha**2))*error_sum"
   ]
  },
  {
   "cell_type": "markdown",
   "metadata": {},
   "source": [
    "### Compute probability ratio $r$"
   ]
  },
  {
   "cell_type": "code",
   "execution_count": 5,
   "metadata": {
    "collapsed": true,
    "scrolled": false
   },
   "outputs": [],
   "source": [
    "def compute_prob_ratio(w, wn, beta, alpha):\n",
    "    tp = log_likelihood_function(w, alpha)\n",
    "    prob_bef = prior_prob(w, beta) + log_likelihood_function(w, alpha)\n",
    "    prob_aft = prior_prob(wn, beta) + log_likelihood_function(wn, alpha)\n",
    "    return prob_aft / prob_bef"
   ]
  },
  {
   "cell_type": "markdown",
   "metadata": {},
   "source": [
    "### Function of metropolis method"
   ]
  },
  {
   "cell_type": "code",
   "execution_count": 6,
   "metadata": {
    "collapsed": true
   },
   "outputs": [],
   "source": [
    "import random\n",
    "import copy\n",
    "\n",
    "def metropolis_method(rv, w, mu, sigma, beta, alpha):\n",
    "    ### Step 2 : Move w\n",
    "    wn = w + rv\n",
    "\n",
    "    ### Step 3 : Compute probability ratio\n",
    "    r = compute_prob_ratio(w, wn, beta, alpha)\n",
    "\n",
    "    ### Step 4 : Generate a random value\n",
    "    R = random.uniform(0, 1)\n",
    "\n",
    "    ### Step 5\n",
    "    if r > R:\n",
    "        return wn\n",
    "    else:\n",
    "        return w"
   ]
  },
  {
   "cell_type": "markdown",
   "metadata": {},
   "source": [
    "### Execute"
   ]
  },
  {
   "cell_type": "code",
   "execution_count": 20,
   "metadata": {
    "collapsed": true,
    "scrolled": true
   },
   "outputs": [],
   "source": [
    "import numpy as np\n",
    "def execute(w, mu, sigma, beta, alpha, repeat=100):\n",
    "    ret = []\n",
    "    ret.append(w)\n",
    "    ### Step 1 : Generate random values from 2-dim normal distribution\n",
    "    random_values = np.random.multivariate_normal(mu, sigma, repeat)\n",
    "    for rv in random_values:\n",
    "        w = metropolis_method(rv, w, mu, sigma, beta, alpha)\n",
    "        ret.append(w)\n",
    "    return ret\n",
    "\n",
    "# パラメータ\n",
    "mu = [0, 0]\n",
    "sigma = [[1,0],[0,1]]\n",
    "beta = 1.\n",
    "alpha = 1.\n",
    "repeat = 1000\n",
    "\n",
    "# 初期状態\n",
    "w = np.array([0., 0.])\n",
    "\n",
    "# 実行\n",
    "output = np.array(execute(w, mu, sigma, beta, alpha, repeat))"
   ]
  },
  {
   "cell_type": "markdown",
   "metadata": {},
   "source": [
    "### Plot"
   ]
  },
  {
   "cell_type": "code",
   "execution_count": 21,
   "metadata": {},
   "outputs": [
    {
     "data": {
      "image/png": "[encoded data removed]",
      "text/plain": [
       "<Figure size 432x288 with 1 Axes>"
      ]
     },
     "metadata": {},
     "output_type": "display_data"
    }
   ],
   "source": [
    "y_ = output[-1][0] + output[-1][1] * X\n",
    "plt.plot(X, y_)\n",
    "plt.scatter(X, y)\n",
    "plt.show()"
   ]
  }
 ],
 "metadata": {
  "kernelspec": {
   "display_name": "py36",
   "language": "python",
   "name": "py36"
  },
  "language_info": {
   "codemirror_mode": {
    "name": "ipython",
    "version": 3
   },
   "file_extension": ".py",
   "mimetype": "text/x-python",
   "name": "python",
   "nbconvert_exporter": "python",
   "pygments_lexer": "ipython3",
   "version": "3.6.8"
  },
  "toc": {
   "base_numbering": 1,
   "nav_menu": {},
   "number_sections": true,
   "sideBar": true,
   "skip_h1_title": false,
   "title_cell": "Table of Contents",
   "title_sidebar": "Contents",
   "toc_cell": false,
   "toc_position": {},
   "toc_section_display": true,
   "toc_window_display": false
  },
  "varInspector": {
   "cols": {
    "lenName": 16,
    "lenType": 16,
    "lenVar": 40
   },
   "kernels_config": {
    "python": {
     "delete_cmd_postfix": "",
     "delete_cmd_prefix": "del ",
     "library": "var_list.py",
     "varRefreshCmd": "print(var_dic_list())"
    },
    "r": {
     "delete_cmd_postfix": ") ",
     "delete_cmd_prefix": "rm(",
     "library": "var_list.r",
     "varRefreshCmd": "cat(var_dic_list()) "
    }
   },
   "types_to_exclude": [
    "module",
    "function",
    "builtin_function_or_method",
    "instance",
    "_Feature"
   ],
   "window_display": false
  }
 },
 "nbformat": 4,
 "nbformat_minor": 2
}
